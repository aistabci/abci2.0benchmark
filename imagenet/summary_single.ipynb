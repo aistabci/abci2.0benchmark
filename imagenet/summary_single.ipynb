{
 "cells": [
  {
   "cell_type": "markdown",
   "id": "418afa86",
   "metadata": {},
   "source": [
    "# Summary of ImageNet/ResNet50 Training on a Node"
   ]
  },
  {
   "cell_type": "code",
   "execution_count": 1,
   "id": "596a499f",
   "metadata": {},
   "outputs": [],
   "source": [
    "%matplotlib inline\n",
    "import glob\n",
    "import json\n",
    "import os\n",
    "from pathlib import Path\n",
    "import re\n",
    "\n",
    "import matplotlib.pyplot as plt\n",
    "import pandas as pd\n",
    "import seaborn as sns\n",
    "\n",
    "SAVE_FIGURE = False\n",
    "FIGURE_FONT_SIZE = 12\n",
    "\n",
    "plt.rcParams[\"figure.dpi\"] = 120\n",
    "plt.rcParams['font.family'] = 'monospace'\n",
    "plt.rcParams['font.size'] = FIGURE_FONT_SIZE\n",
    "pd.set_option('precision', 3)\n",
    "pd.set_option('display.max_columns', 30)\n",
    "\n",
    "project_dir = os.getcwd()\n",
    "dir_anode_single = f'{project_dir}/anode_single'\n",
    "dir_vnode_single = f'{project_dir}/vnode_single'"
   ]
  },
  {
   "cell_type": "code",
   "execution_count": 2,
   "id": "360e92db",
   "metadata": {},
   "outputs": [],
   "source": [
    "# function definitions\n",
    "\n",
    "def read_data_from_files(file_pattern, name=None):\n",
    "    ngpus = [1, 4, 8]\n",
    "    data = []\n",
    "    for ngpu in ngpus:\n",
    "        file_pattern0 = file_pattern.format(ngpu=ngpu)\n",
    "        files = glob.glob(file_pattern0)\n",
    "        if not files:\n",
    "            continue\n",
    "        with open(files[0]) as inf:\n",
    "            lines = inf.readlines()\n",
    "            last_line = lines[-1].strip()\n",
    "            record_str = last_line.split(' ', 1)[1]\n",
    "            record = json.loads(record_str)\n",
    "            value = record['data']['train.compute_ips']\n",
    "            data.append(value)\n",
    "    return pd.Series(data=data, index=ngpus[:len(data)], name=name)\n",
    "\n",
    "def load_data():\n",
    "    node_types = {\n",
    "        'anode': dir_anode_single,\n",
    "        'vnode': dir_vnode_single\n",
    "    }\n",
    "    methods = {\n",
    "        'fp32': '',\n",
    "        'amp': '.amp',\n",
    "    }\n",
    "\n",
    "    series = []\n",
    "    for node, dirpath in node_types.items():\n",
    "        for method, suffix in methods.items():\n",
    "            column_key = f'{node}:{method}'\n",
    "            file_pattern = f'{dirpath}/job_gpu' + '{ngpu}' + f'.sh.*.result{suffix}.json'\n",
    "            data = read_data_from_files(file_pattern, column_key)\n",
    "            series.append(data)\n",
    "    return pd.concat(series, axis=1)\n",
    "\n",
    "def plot(data, column_labels, title, legend_fontsize=None):\n",
    "    data0 = data[column_labels.keys()]\n",
    "    data0 = data0.rename(columns=column_labels)\n",
    "    fig = plt.figure()\n",
    "    ax = fig.add_subplot(1, 1, 1)\n",
    "\n",
    "    ax.set_xlabel('# of GPUs')\n",
    "    ax.set_ylabel('Image/s')\n",
    "\n",
    "    data0.dropna(how='all').plot.bar(ax=ax, rot=0)\n",
    "    ax.legend(fontsize=legend_fontsize)\n",
    "    if SAVE_FIGURE:\n",
    "        fig.savefig(f'{title}.pdf')\n",
    "    ax.set_title(title)"
   ]
  },
  {
   "cell_type": "code",
   "execution_count": 3,
   "id": "ec20b095",
   "metadata": {},
   "outputs": [
    {
     "data": {
      "text/html": [
       "<div>\n",
       "<style scoped>\n",
       "    .dataframe tbody tr th:only-of-type {\n",
       "        vertical-align: middle;\n",
       "    }\n",
       "\n",
       "    .dataframe tbody tr th {\n",
       "        vertical-align: top;\n",
       "    }\n",
       "\n",
       "    .dataframe thead th {\n",
       "        text-align: right;\n",
       "    }\n",
       "</style>\n",
       "<table border=\"1\" class=\"dataframe\">\n",
       "  <thead>\n",
       "    <tr style=\"text-align: right;\">\n",
       "      <th></th>\n",
       "      <th>anode:fp32</th>\n",
       "      <th>anode:amp</th>\n",
       "      <th>vnode:fp32</th>\n",
       "      <th>vnode:amp</th>\n",
       "    </tr>\n",
       "  </thead>\n",
       "  <tbody>\n",
       "    <tr>\n",
       "      <th>1</th>\n",
       "      <td>771.917</td>\n",
       "      <td>1249.378</td>\n",
       "      <td>362.116</td>\n",
       "      <td>789.68</td>\n",
       "    </tr>\n",
       "    <tr>\n",
       "      <th>4</th>\n",
       "      <td>3054.616</td>\n",
       "      <td>4911.546</td>\n",
       "      <td>1434.770</td>\n",
       "      <td>3092.22</td>\n",
       "    </tr>\n",
       "    <tr>\n",
       "      <th>8</th>\n",
       "      <td>6103.385</td>\n",
       "      <td>9448.272</td>\n",
       "      <td>NaN</td>\n",
       "      <td>NaN</td>\n",
       "    </tr>\n",
       "  </tbody>\n",
       "</table>\n",
       "</div>"
      ],
      "text/plain": [
       "   anode:fp32  anode:amp  vnode:fp32  vnode:amp\n",
       "1     771.917   1249.378     362.116     789.68\n",
       "4    3054.616   4911.546    1434.770    3092.22\n",
       "8    6103.385   9448.272         NaN        NaN"
      ]
     },
     "execution_count": 3,
     "metadata": {},
     "output_type": "execute_result"
    }
   ],
   "source": [
    "data = load_data()\n",
    "data"
   ]
  },
  {
   "cell_type": "markdown",
   "id": "eeb5ba0a",
   "metadata": {},
   "source": [
    "## Performance Ratio"
   ]
  },
  {
   "cell_type": "code",
   "execution_count": 4,
   "id": "2b3247ed",
   "metadata": {},
   "outputs": [
    {
     "data": {
      "text/html": [
       "<div>\n",
       "<style scoped>\n",
       "    .dataframe tbody tr th:only-of-type {\n",
       "        vertical-align: middle;\n",
       "    }\n",
       "\n",
       "    .dataframe tbody tr th {\n",
       "        vertical-align: top;\n",
       "    }\n",
       "\n",
       "    .dataframe thead th {\n",
       "        text-align: right;\n",
       "    }\n",
       "</style>\n",
       "<table border=\"1\" class=\"dataframe\">\n",
       "  <thead>\n",
       "    <tr style=\"text-align: right;\">\n",
       "      <th></th>\n",
       "      <th>fp32:a100_over_v100</th>\n",
       "      <th>amp:a100_over_v100</th>\n",
       "      <th>a100:amp_over_tf32</th>\n",
       "      <th>v100:amp_over_fp32</th>\n",
       "    </tr>\n",
       "  </thead>\n",
       "  <tbody>\n",
       "    <tr>\n",
       "      <th>1</th>\n",
       "      <td>2.132</td>\n",
       "      <td>1.582</td>\n",
       "      <td>1.619</td>\n",
       "      <td>2.181</td>\n",
       "    </tr>\n",
       "    <tr>\n",
       "      <th>4</th>\n",
       "      <td>2.129</td>\n",
       "      <td>1.588</td>\n",
       "      <td>1.608</td>\n",
       "      <td>2.155</td>\n",
       "    </tr>\n",
       "    <tr>\n",
       "      <th>8</th>\n",
       "      <td>NaN</td>\n",
       "      <td>NaN</td>\n",
       "      <td>1.548</td>\n",
       "      <td>NaN</td>\n",
       "    </tr>\n",
       "  </tbody>\n",
       "</table>\n",
       "</div>"
      ],
      "text/plain": [
       "   fp32:a100_over_v100  amp:a100_over_v100  a100:amp_over_tf32  \\\n",
       "1                2.132               1.582               1.619   \n",
       "4                2.129               1.588               1.608   \n",
       "8                  NaN                 NaN               1.548   \n",
       "\n",
       "   v100:amp_over_fp32  \n",
       "1               2.181  \n",
       "4               2.155  \n",
       "8                 NaN  "
      ]
     },
     "execution_count": 4,
     "metadata": {},
     "output_type": "execute_result"
    }
   ],
   "source": [
    "data_ratio = {\n",
    "    'fp32:a100_over_v100': data['anode:fp32'] / data['vnode:fp32'],\n",
    "    'amp:a100_over_v100': data['anode:amp'] / data['vnode:amp'],\n",
    "    'a100:amp_over_tf32': data['anode:amp'] / data['anode:fp32'],\n",
    "    'v100:amp_over_fp32': data['vnode:amp'] / data['vnode:fp32'],\n",
    "}\n",
    "pd.DataFrame(data=data_ratio)"
   ]
  },
  {
   "cell_type": "markdown",
   "id": "d26a04f7",
   "metadata": {},
   "source": [
    "## A100 vs. V100"
   ]
  },
  {
   "cell_type": "code",
   "execution_count": 5,
   "id": "1a0e46db",
   "metadata": {},
   "outputs": [
    {
     "data": {
      "image/png": "[encoded data removed]",
      "text/plain": [
       "<Figure size 720x480 with 1 Axes>"
      ]
     },
     "metadata": {
      "needs_background": "light"
     },
     "output_type": "display_data"
    }
   ],
   "source": [
    "title = 'A100 TF32 vs. V100 FP32'\n",
    "column_labels = {\n",
    "    'anode:fp32': 'A100, TF32',\n",
    "    'vnode:fp32': 'V100, FP32',\n",
    "}\n",
    "plot(data, column_labels, title)"
   ]
  },
  {
   "cell_type": "markdown",
   "id": "e038061f",
   "metadata": {},
   "source": [
    "## A100: TF32 vs. AMP"
   ]
  },
  {
   "cell_type": "code",
   "execution_count": 6,
   "id": "ad4eca5d",
   "metadata": {},
   "outputs": [
    {
     "data": {
      "image/png": "[encoded data removed]",
      "text/plain": [
       "<Figure size 720x480 with 1 Axes>"
      ]
     },
     "metadata": {
      "needs_background": "light"
     },
     "output_type": "display_data"
    }
   ],
   "source": [
    "title = 'A100: TF32 vs. AMP'\n",
    "column_labels = {\n",
    "    'anode:fp32': 'A100, TF32',\n",
    "    'anode:amp': 'A100, AMP',\n",
    "}\n",
    "plot(data, column_labels, title)"
   ]
  },
  {
   "cell_type": "markdown",
   "id": "5eb15125",
   "metadata": {},
   "source": [
    "## V100: FP32 vs. AMP"
   ]
  },
  {
   "cell_type": "code",
   "execution_count": 7,
   "id": "e4168ca8",
   "metadata": {},
   "outputs": [
    {
     "data": {
      "image/png": "[encoded data removed]",
      "text/plain": [
       "<Figure size 720x480 with 1 Axes>"
      ]
     },
     "metadata": {
      "needs_background": "light"
     },
     "output_type": "display_data"
    }
   ],
   "source": [
    "title = 'V100: FP32 vs. AMP'\n",
    "column_labels = {\n",
    "    'vnode:fp32': 'V100, FP32',\n",
    "    'vnode:amp': 'V100, AMP',\n",
    "}\n",
    "plot(data, column_labels, title)"
   ]
  },
  {
   "cell_type": "code",
   "execution_count": null,
   "id": "ab2cc63d",
   "metadata": {},
   "outputs": [],
   "source": []
  }
 ],
 "metadata": {
  "kernelspec": {
   "display_name": "Python 3",
   "language": "python",
   "name": "python3"
  },
  "language_info": {
   "codemirror_mode": {
    "name": "ipython",
    "version": 3
   },
   "file_extension": ".py",
   "mimetype": "text/x-python",
   "name": "python",
   "nbconvert_exporter": "python",
   "pygments_lexer": "ipython3",
   "version": "3.6.5"
  }
 },
 "nbformat": 4,
 "nbformat_minor": 5
}
