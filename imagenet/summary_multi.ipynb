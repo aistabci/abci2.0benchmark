{
 "cells": [
  {
   "cell_type": "markdown",
   "id": "71ad47e9",
   "metadata": {},
   "source": [
    "# Summary of ImageNet/ResNet50 Training using Multiple Node"
   ]
  },
  {
   "cell_type": "code",
   "execution_count": 1,
   "id": "596a499f",
   "metadata": {},
   "outputs": [],
   "source": [
    "%matplotlib inline\n",
    "import glob\n",
    "import json\n",
    "import os\n",
    "from pathlib import Path\n",
    "import re\n",
    "\n",
    "import matplotlib.pyplot as plt\n",
    "import pandas as pd\n",
    "import seaborn as sns\n",
    "\n",
    "SAVE_FIGURE = False\n",
    "FIGURE_FONT_SIZE = 12\n",
    "\n",
    "plt.rcParams[\"figure.dpi\"] = 120\n",
    "plt.rcParams['font.family'] = 'monospace'\n",
    "plt.rcParams['font.size'] = FIGURE_FONT_SIZE\n",
    "pd.set_option('precision', 3)\n",
    "pd.set_option('display.max_columns', 30)\n",
    "\n",
    "project_dir = os.getcwd()\n",
    "dir_anode_multi = f'{project_dir}/anode_multi'\n",
    "dir_vnode_multi = f'{project_dir}/vnode_multi'"
   ]
  },
  {
   "cell_type": "code",
   "execution_count": 2,
   "id": "9d9eb5dd",
   "metadata": {},
   "outputs": [],
   "source": [
    "# function definitions\n",
    "\n",
    "def read_data_from_files(dirpath, name, index_gpus=False):\n",
    "    nnodes = [1, 2, 4, 8, 16, 32]\n",
    "    index = []\n",
    "    data = []\n",
    "    for nnode in nnodes:\n",
    "        file_pattern = f'{dirpath}/job{nnode:02d}.sh.o*'\n",
    "        files = glob.glob(file_pattern)\n",
    "        if not files:\n",
    "            continue\n",
    "        index.append(nnode)\n",
    "        with open(files[0]) as inf:\n",
    "            lines = inf.readlines()\n",
    "            last_line = lines[-1].strip()\n",
    "            record_str = last_line.split(' ')[-1]\n",
    "            data.append(float(record_str))\n",
    "    if index_gpus:\n",
    "        if name == 'anode':\n",
    "            ngpus = 8\n",
    "        elif name == 'vnode':\n",
    "            ngpus = 4\n",
    "        index = [n * ngpus for n in index]\n",
    "    return pd.Series(data=data, index=index, name=name)\n",
    "\n",
    "def load_data(index_gpus=False):\n",
    "    node_types = {\n",
    "        'anode': dir_anode_multi,\n",
    "        'vnode': dir_vnode_multi\n",
    "    }\n",
    "\n",
    "    series = []\n",
    "    for node, dirpath in node_types.items():\n",
    "        column_key = node\n",
    "        data = read_data_from_files(dirpath, column_key, index_gpus)\n",
    "        series.append(data)\n",
    "    return pd.concat(series, axis=1)\n",
    "\n",
    "def plot(data, column_labels, title, legend_fontsize=None, xaxis_gpus=False):\n",
    "    data0 = data[column_labels.keys()]\n",
    "    data0 = data0.rename(columns=column_labels)\n",
    "    data0 = data0 / 3600\n",
    "    fig = plt.figure()\n",
    "    ax = fig.add_subplot(1, 1, 1)\n",
    "\n",
    "    if xaxis_gpus:\n",
    "        ax.set_xlabel('# of GPUs')\n",
    "    else:\n",
    "        ax.set_xlabel('# of Nodes')\n",
    "    ax.set_ylabel('Time (hours)')\n",
    "\n",
    "    data0.dropna(how='all').plot.bar(ax=ax, rot=0)\n",
    "    for p in ax.patches:\n",
    "        if p.get_height() == 0:\n",
    "            continue\n",
    "        ax.annotate(f'{p.get_height():.2f}', (p.get_x() * 1.005, p.get_height() * 1.005), size=10)\n",
    "\n",
    "    ax.legend(fontsize=legend_fontsize)\n",
    "    if SAVE_FIGURE:\n",
    "        fig.savefig(f'{title}.pdf')\n",
    "    ax.set_title(title)"
   ]
  },
  {
   "cell_type": "markdown",
   "id": "bbf67a47",
   "metadata": {},
   "source": [
    "## Performance by Changing Number of Nodes"
   ]
  },
  {
   "cell_type": "code",
   "execution_count": 3,
   "id": "9c333083",
   "metadata": {},
   "outputs": [
    {
     "name": "stdout",
     "output_type": "stream",
     "text": [
      "Training Time\n"
     ]
    },
    {
     "data": {
      "text/html": [
       "<div>\n",
       "<style scoped>\n",
       "    .dataframe tbody tr th:only-of-type {\n",
       "        vertical-align: middle;\n",
       "    }\n",
       "\n",
       "    .dataframe tbody tr th {\n",
       "        vertical-align: top;\n",
       "    }\n",
       "\n",
       "    .dataframe thead th {\n",
       "        text-align: right;\n",
       "    }\n",
       "</style>\n",
       "<table border=\"1\" class=\"dataframe\">\n",
       "  <thead>\n",
       "    <tr style=\"text-align: right;\">\n",
       "      <th></th>\n",
       "      <th>anode</th>\n",
       "      <th>vnode</th>\n",
       "    </tr>\n",
       "  </thead>\n",
       "  <tbody>\n",
       "    <tr>\n",
       "      <th>1</th>\n",
       "      <td>21247.42</td>\n",
       "      <td>87196.40</td>\n",
       "    </tr>\n",
       "    <tr>\n",
       "      <th>2</th>\n",
       "      <td>11441.05</td>\n",
       "      <td>44594.35</td>\n",
       "    </tr>\n",
       "    <tr>\n",
       "      <th>4</th>\n",
       "      <td>6223.11</td>\n",
       "      <td>22889.24</td>\n",
       "    </tr>\n",
       "    <tr>\n",
       "      <th>8</th>\n",
       "      <td>3432.30</td>\n",
       "      <td>12224.99</td>\n",
       "    </tr>\n",
       "    <tr>\n",
       "      <th>16</th>\n",
       "      <td>2019.90</td>\n",
       "      <td>6242.00</td>\n",
       "    </tr>\n",
       "    <tr>\n",
       "      <th>32</th>\n",
       "      <td>NaN</td>\n",
       "      <td>3321.17</td>\n",
       "    </tr>\n",
       "  </tbody>\n",
       "</table>\n",
       "</div>"
      ],
      "text/plain": [
       "       anode     vnode\n",
       "1   21247.42  87196.40\n",
       "2   11441.05  44594.35\n",
       "4    6223.11  22889.24\n",
       "8    3432.30  12224.99\n",
       "16   2019.90   6242.00\n",
       "32       NaN   3321.17"
      ]
     },
     "execution_count": 3,
     "metadata": {},
     "output_type": "execute_result"
    }
   ],
   "source": [
    "data = load_data()\n",
    "print('Training Time')\n",
    "data"
   ]
  },
  {
   "cell_type": "code",
   "execution_count": 4,
   "id": "21e5e9a7",
   "metadata": {},
   "outputs": [
    {
     "name": "stdout",
     "output_type": "stream",
     "text": [
      "Relative Performance against #Node=1\n"
     ]
    },
    {
     "data": {
      "text/html": [
       "<div>\n",
       "<style scoped>\n",
       "    .dataframe tbody tr th:only-of-type {\n",
       "        vertical-align: middle;\n",
       "    }\n",
       "\n",
       "    .dataframe tbody tr th {\n",
       "        vertical-align: top;\n",
       "    }\n",
       "\n",
       "    .dataframe thead th {\n",
       "        text-align: right;\n",
       "    }\n",
       "</style>\n",
       "<table border=\"1\" class=\"dataframe\">\n",
       "  <thead>\n",
       "    <tr style=\"text-align: right;\">\n",
       "      <th></th>\n",
       "      <th>anode</th>\n",
       "      <th>vnode</th>\n",
       "    </tr>\n",
       "  </thead>\n",
       "  <tbody>\n",
       "    <tr>\n",
       "      <th>1</th>\n",
       "      <td>1.000</td>\n",
       "      <td>1.000</td>\n",
       "    </tr>\n",
       "    <tr>\n",
       "      <th>2</th>\n",
       "      <td>1.857</td>\n",
       "      <td>1.955</td>\n",
       "    </tr>\n",
       "    <tr>\n",
       "      <th>4</th>\n",
       "      <td>3.414</td>\n",
       "      <td>3.809</td>\n",
       "    </tr>\n",
       "    <tr>\n",
       "      <th>8</th>\n",
       "      <td>6.190</td>\n",
       "      <td>7.133</td>\n",
       "    </tr>\n",
       "    <tr>\n",
       "      <th>16</th>\n",
       "      <td>10.519</td>\n",
       "      <td>13.969</td>\n",
       "    </tr>\n",
       "    <tr>\n",
       "      <th>32</th>\n",
       "      <td>NaN</td>\n",
       "      <td>26.255</td>\n",
       "    </tr>\n",
       "  </tbody>\n",
       "</table>\n",
       "</div>"
      ],
      "text/plain": [
       "     anode   vnode\n",
       "1    1.000   1.000\n",
       "2    1.857   1.955\n",
       "4    3.414   3.809\n",
       "8    6.190   7.133\n",
       "16  10.519  13.969\n",
       "32     NaN  26.255"
      ]
     },
     "execution_count": 4,
     "metadata": {},
     "output_type": "execute_result"
    }
   ],
   "source": [
    "print('Relative Performance against #Node=1')\n",
    "data.loc[1] / data"
   ]
  },
  {
   "cell_type": "code",
   "execution_count": 5,
   "id": "863ef79c",
   "metadata": {},
   "outputs": [
    {
     "name": "stdout",
     "output_type": "stream",
     "text": [
      "Speedup of Node(A) against Node(V)\n"
     ]
    },
    {
     "data": {
      "text/html": [
       "<div>\n",
       "<style scoped>\n",
       "    .dataframe tbody tr th:only-of-type {\n",
       "        vertical-align: middle;\n",
       "    }\n",
       "\n",
       "    .dataframe tbody tr th {\n",
       "        vertical-align: top;\n",
       "    }\n",
       "\n",
       "    .dataframe thead th {\n",
       "        text-align: right;\n",
       "    }\n",
       "</style>\n",
       "<table border=\"1\" class=\"dataframe\">\n",
       "  <thead>\n",
       "    <tr style=\"text-align: right;\">\n",
       "      <th></th>\n",
       "      <th>speedup</th>\n",
       "    </tr>\n",
       "  </thead>\n",
       "  <tbody>\n",
       "    <tr>\n",
       "      <th>1</th>\n",
       "      <td>4.104</td>\n",
       "    </tr>\n",
       "    <tr>\n",
       "      <th>2</th>\n",
       "      <td>3.898</td>\n",
       "    </tr>\n",
       "    <tr>\n",
       "      <th>4</th>\n",
       "      <td>3.678</td>\n",
       "    </tr>\n",
       "    <tr>\n",
       "      <th>8</th>\n",
       "      <td>3.562</td>\n",
       "    </tr>\n",
       "    <tr>\n",
       "      <th>16</th>\n",
       "      <td>3.090</td>\n",
       "    </tr>\n",
       "    <tr>\n",
       "      <th>32</th>\n",
       "      <td>NaN</td>\n",
       "    </tr>\n",
       "  </tbody>\n",
       "</table>\n",
       "</div>"
      ],
      "text/plain": [
       "    speedup\n",
       "1     4.104\n",
       "2     3.898\n",
       "4     3.678\n",
       "8     3.562\n",
       "16    3.090\n",
       "32      NaN"
      ]
     },
     "execution_count": 5,
     "metadata": {},
     "output_type": "execute_result"
    }
   ],
   "source": [
    "print('Speedup of Node(A) against Node(V)')\n",
    "data.loc[:, ['vnode']].apply(lambda x: x/data['anode']).rename(columns={'vnode': 'speedup'})"
   ]
  },
  {
   "cell_type": "code",
   "execution_count": 6,
   "id": "f819a0d6",
   "metadata": {},
   "outputs": [
    {
     "data": {
      "image/png": "[encoded data removed]",
      "text/plain": [
       "<Figure size 720x480 with 1 Axes>"
      ]
     },
     "metadata": {
      "needs_background": "light"
     },
     "output_type": "display_data"
    }
   ],
   "source": [
    "title = 'Node(A) vs. Node(V) in #Nodes'\n",
    "column_labels = {\n",
    "    'anode': 'Node(A)',\n",
    "    'vnode': 'Node(V)',\n",
    "}\n",
    "plot(data, column_labels, title)"
   ]
  },
  {
   "cell_type": "markdown",
   "id": "df74015f",
   "metadata": {},
   "source": [
    "## Performance by Changing Number of GPUs"
   ]
  },
  {
   "cell_type": "code",
   "execution_count": 7,
   "id": "e62bc7ea",
   "metadata": {},
   "outputs": [
    {
     "name": "stdout",
     "output_type": "stream",
     "text": [
      "Training Time\n"
     ]
    },
    {
     "data": {
      "text/html": [
       "<div>\n",
       "<style scoped>\n",
       "    .dataframe tbody tr th:only-of-type {\n",
       "        vertical-align: middle;\n",
       "    }\n",
       "\n",
       "    .dataframe tbody tr th {\n",
       "        vertical-align: top;\n",
       "    }\n",
       "\n",
       "    .dataframe thead th {\n",
       "        text-align: right;\n",
       "    }\n",
       "</style>\n",
       "<table border=\"1\" class=\"dataframe\">\n",
       "  <thead>\n",
       "    <tr style=\"text-align: right;\">\n",
       "      <th></th>\n",
       "      <th>anode</th>\n",
       "      <th>vnode</th>\n",
       "    </tr>\n",
       "  </thead>\n",
       "  <tbody>\n",
       "    <tr>\n",
       "      <th>4</th>\n",
       "      <td>NaN</td>\n",
       "      <td>87196.40</td>\n",
       "    </tr>\n",
       "    <tr>\n",
       "      <th>8</th>\n",
       "      <td>21247.42</td>\n",
       "      <td>44594.35</td>\n",
       "    </tr>\n",
       "    <tr>\n",
       "      <th>16</th>\n",
       "      <td>11441.05</td>\n",
       "      <td>22889.24</td>\n",
       "    </tr>\n",
       "    <tr>\n",
       "      <th>32</th>\n",
       "      <td>6223.11</td>\n",
       "      <td>12224.99</td>\n",
       "    </tr>\n",
       "    <tr>\n",
       "      <th>64</th>\n",
       "      <td>3432.30</td>\n",
       "      <td>6242.00</td>\n",
       "    </tr>\n",
       "    <tr>\n",
       "      <th>128</th>\n",
       "      <td>2019.90</td>\n",
       "      <td>3321.17</td>\n",
       "    </tr>\n",
       "  </tbody>\n",
       "</table>\n",
       "</div>"
      ],
      "text/plain": [
       "        anode     vnode\n",
       "4         NaN  87196.40\n",
       "8    21247.42  44594.35\n",
       "16   11441.05  22889.24\n",
       "32    6223.11  12224.99\n",
       "64    3432.30   6242.00\n",
       "128   2019.90   3321.17"
      ]
     },
     "execution_count": 7,
     "metadata": {},
     "output_type": "execute_result"
    }
   ],
   "source": [
    "data_gpus = load_data(index_gpus=True)\n",
    "print('Training Time')\n",
    "data_gpus"
   ]
  },
  {
   "cell_type": "code",
   "execution_count": 8,
   "id": "5a447240",
   "metadata": {},
   "outputs": [
    {
     "name": "stdout",
     "output_type": "stream",
     "text": [
      "Relative Performance against #GPUs=8\n"
     ]
    },
    {
     "data": {
      "text/html": [
       "<div>\n",
       "<style scoped>\n",
       "    .dataframe tbody tr th:only-of-type {\n",
       "        vertical-align: middle;\n",
       "    }\n",
       "\n",
       "    .dataframe tbody tr th {\n",
       "        vertical-align: top;\n",
       "    }\n",
       "\n",
       "    .dataframe thead th {\n",
       "        text-align: right;\n",
       "    }\n",
       "</style>\n",
       "<table border=\"1\" class=\"dataframe\">\n",
       "  <thead>\n",
       "    <tr style=\"text-align: right;\">\n",
       "      <th></th>\n",
       "      <th>anode</th>\n",
       "      <th>vnode</th>\n",
       "    </tr>\n",
       "  </thead>\n",
       "  <tbody>\n",
       "    <tr>\n",
       "      <th>4</th>\n",
       "      <td>NaN</td>\n",
       "      <td>0.511</td>\n",
       "    </tr>\n",
       "    <tr>\n",
       "      <th>8</th>\n",
       "      <td>1.000</td>\n",
       "      <td>1.000</td>\n",
       "    </tr>\n",
       "    <tr>\n",
       "      <th>16</th>\n",
       "      <td>1.857</td>\n",
       "      <td>1.948</td>\n",
       "    </tr>\n",
       "    <tr>\n",
       "      <th>32</th>\n",
       "      <td>3.414</td>\n",
       "      <td>3.648</td>\n",
       "    </tr>\n",
       "    <tr>\n",
       "      <th>64</th>\n",
       "      <td>6.190</td>\n",
       "      <td>7.144</td>\n",
       "    </tr>\n",
       "    <tr>\n",
       "      <th>128</th>\n",
       "      <td>10.519</td>\n",
       "      <td>13.427</td>\n",
       "    </tr>\n",
       "  </tbody>\n",
       "</table>\n",
       "</div>"
      ],
      "text/plain": [
       "      anode   vnode\n",
       "4       NaN   0.511\n",
       "8     1.000   1.000\n",
       "16    1.857   1.948\n",
       "32    3.414   3.648\n",
       "64    6.190   7.144\n",
       "128  10.519  13.427"
      ]
     },
     "execution_count": 8,
     "metadata": {},
     "output_type": "execute_result"
    }
   ],
   "source": [
    "print('Relative Performance against #GPUs=8')\n",
    "data_gpus.loc[8] / data_gpus"
   ]
  },
  {
   "cell_type": "code",
   "execution_count": 9,
   "id": "51489ac1",
   "metadata": {},
   "outputs": [
    {
     "name": "stdout",
     "output_type": "stream",
     "text": [
      "Speedup of Node(A) against Node(V)\n"
     ]
    },
    {
     "data": {
      "text/html": [
       "<div>\n",
       "<style scoped>\n",
       "    .dataframe tbody tr th:only-of-type {\n",
       "        vertical-align: middle;\n",
       "    }\n",
       "\n",
       "    .dataframe tbody tr th {\n",
       "        vertical-align: top;\n",
       "    }\n",
       "\n",
       "    .dataframe thead th {\n",
       "        text-align: right;\n",
       "    }\n",
       "</style>\n",
       "<table border=\"1\" class=\"dataframe\">\n",
       "  <thead>\n",
       "    <tr style=\"text-align: right;\">\n",
       "      <th></th>\n",
       "      <th>speedup</th>\n",
       "    </tr>\n",
       "  </thead>\n",
       "  <tbody>\n",
       "    <tr>\n",
       "      <th>4</th>\n",
       "      <td>NaN</td>\n",
       "    </tr>\n",
       "    <tr>\n",
       "      <th>8</th>\n",
       "      <td>2.099</td>\n",
       "    </tr>\n",
       "    <tr>\n",
       "      <th>16</th>\n",
       "      <td>2.001</td>\n",
       "    </tr>\n",
       "    <tr>\n",
       "      <th>32</th>\n",
       "      <td>1.964</td>\n",
       "    </tr>\n",
       "    <tr>\n",
       "      <th>64</th>\n",
       "      <td>1.819</td>\n",
       "    </tr>\n",
       "    <tr>\n",
       "      <th>128</th>\n",
       "      <td>1.644</td>\n",
       "    </tr>\n",
       "  </tbody>\n",
       "</table>\n",
       "</div>"
      ],
      "text/plain": [
       "     speedup\n",
       "4        NaN\n",
       "8      2.099\n",
       "16     2.001\n",
       "32     1.964\n",
       "64     1.819\n",
       "128    1.644"
      ]
     },
     "execution_count": 9,
     "metadata": {},
     "output_type": "execute_result"
    }
   ],
   "source": [
    "print('Speedup of Node(A) against Node(V)')\n",
    "data_gpus.loc[:, ['vnode']].apply(lambda x: x/data_gpus['anode']).rename(columns={'vnode': 'speedup'})"
   ]
  },
  {
   "cell_type": "code",
   "execution_count": 10,
   "id": "892e2cf1",
   "metadata": {},
   "outputs": [
    {
     "data": {
      "image/png": "[encoded data removed]",
      "text/plain": [
       "<Figure size 720x480 with 1 Axes>"
      ]
     },
     "metadata": {
      "needs_background": "light"
     },
     "output_type": "display_data"
    }
   ],
   "source": [
    "title = 'Node(A) vs. Node(V) in #GPUs'\n",
    "column_labels = {\n",
    "    'anode': 'Node(A)',\n",
    "    'vnode': 'Node(V)',\n",
    "}\n",
    "plot(data_gpus, column_labels, title, xaxis_gpus=True)"
   ]
  },
  {
   "cell_type": "code",
   "execution_count": null,
   "id": "bc702df7",
   "metadata": {},
   "outputs": [],
   "source": []
  }
 ],
 "metadata": {
  "kernelspec": {
   "display_name": "Python 3",
   "language": "python",
   "name": "python3"
  },
  "language_info": {
   "codemirror_mode": {
    "name": "ipython",
    "version": 3
   },
   "file_extension": ".py",
   "mimetype": "text/x-python",
   "name": "python",
   "nbconvert_exporter": "python",
   "pygments_lexer": "ipython3",
   "version": "3.6.5"
  }
 },
 "nbformat": 4,
 "nbformat_minor": 5
}
