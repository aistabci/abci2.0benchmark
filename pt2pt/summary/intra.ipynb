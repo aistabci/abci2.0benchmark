{
 "cells": [
  {
   "cell_type": "markdown",
   "id": "f2b7a437",
   "metadata": {},
   "source": [
    "# Summary of Inter GPU Point-to-Point Communication within a Node"
   ]
  },
  {
   "cell_type": "code",
   "execution_count": 1,
   "id": "7df01a89",
   "metadata": {},
   "outputs": [],
   "source": [
    "%matplotlib inline\n",
    "import os\n",
    "from pathlib import Path\n",
    "import re\n",
    "\n",
    "import matplotlib.pyplot as plt\n",
    "import pandas as pd\n",
    "import seaborn as sns\n",
    "\n",
    "\n",
    "project_dir = Path(os.getcwd()).parents[0]\n",
    "file_anode_results = f'{project_dir}/intra_anode/intra_anode.out'\n",
    "file_vnode_results = f'{project_dir}/intra_vnode/intra_vnode.out'\n",
    "bandwidth_title = r'Bidirectional P2P=Enabled Bandwidth Matrix'\n",
    "latency_title = r'P2P=Enabled Latency \\(P2P Writes\\) Matrix'"
   ]
  },
  {
   "cell_type": "code",
   "execution_count": 2,
   "id": "ca660f8f",
   "metadata": {},
   "outputs": [],
   "source": [
    "# function definitions\n",
    "\n",
    "def read_table(filepath, title, nlines):\n",
    "    pattern = title\n",
    "    in_data = False\n",
    "    lines = []\n",
    "    with open(filepath) as inf:\n",
    "        for line in inf:\n",
    "            if len(lines) == nlines:\n",
    "                break\n",
    "            line = line.strip()\n",
    "            if not in_data:\n",
    "                if re.match(pattern, line):\n",
    "                    in_data = True\n",
    "                    continue\n",
    "            else:\n",
    "                lines.append(line)\n",
    "\n",
    "    column_line = lines[0]\n",
    "    value_lines = lines[1:]\n",
    "    columns = column_line.split()[1:]\n",
    "    index = [line.split()[0] for line in value_lines]\n",
    "    values = [map(float, line.split()[1:]) for line in value_lines]\n",
    "    return pd.DataFrame(data=values, index=index, columns=columns)\n",
    "\n",
    "def plot_heatmap(data, title, fmt=None):\n",
    "    if fmt == None:\n",
    "        fmt = '.0f'\n",
    "    fig = plt.figure()\n",
    "    ax = fig.add_subplot(1, 1, 1)\n",
    "    ax.set_title(title)\n",
    "    sns.heatmap(data, ax=ax, square=True, cmap='Blues', annot=True, fmt=fmt)\n",
    "    # fig.savefig('ffff.pdf')"
   ]
  },
  {
   "cell_type": "markdown",
   "id": "5e4853ff",
   "metadata": {},
   "source": [
    "## Bandwidth"
   ]
  },
  {
   "cell_type": "code",
   "execution_count": 3,
   "id": "f90c638b",
   "metadata": {},
   "outputs": [],
   "source": [
    "bw_anode = read_table(file_anode_results, bandwidth_title, 9)\n",
    "bw_vnode = read_table(file_vnode_results, bandwidth_title, 5)"
   ]
  },
  {
   "cell_type": "code",
   "execution_count": 4,
   "id": "27b8d6b1",
   "metadata": {},
   "outputs": [
    {
     "name": "stdout",
     "output_type": "stream",
     "text": [
      "Bidirectional P2P=Enabled Bandwidth Matrix (GB/s) - ComputeNode(A)\n"
     ]
    },
    {
     "data": {
      "text/html": [
       "<div>\n",
       "<style scoped>\n",
       "    .dataframe tbody tr th:only-of-type {\n",
       "        vertical-align: middle;\n",
       "    }\n",
       "\n",
       "    .dataframe tbody tr th {\n",
       "        vertical-align: top;\n",
       "    }\n",
       "\n",
       "    .dataframe thead th {\n",
       "        text-align: right;\n",
       "    }\n",
       "</style>\n",
       "<table border=\"1\" class=\"dataframe\">\n",
       "  <thead>\n",
       "    <tr style=\"text-align: right;\">\n",
       "      <th></th>\n",
       "      <th>0</th>\n",
       "      <th>1</th>\n",
       "      <th>2</th>\n",
       "      <th>3</th>\n",
       "      <th>4</th>\n",
       "      <th>5</th>\n",
       "      <th>6</th>\n",
       "      <th>7</th>\n",
       "    </tr>\n",
       "  </thead>\n",
       "  <tbody>\n",
       "    <tr>\n",
       "      <th>0</th>\n",
       "      <td>1291.86</td>\n",
       "      <td>410.10</td>\n",
       "      <td>410.71</td>\n",
       "      <td>411.04</td>\n",
       "      <td>412.22</td>\n",
       "      <td>411.46</td>\n",
       "      <td>412.88</td>\n",
       "      <td>412.15</td>\n",
       "    </tr>\n",
       "    <tr>\n",
       "      <th>1</th>\n",
       "      <td>409.42</td>\n",
       "      <td>1290.79</td>\n",
       "      <td>410.06</td>\n",
       "      <td>410.09</td>\n",
       "      <td>409.95</td>\n",
       "      <td>410.27</td>\n",
       "      <td>409.20</td>\n",
       "      <td>410.26</td>\n",
       "    </tr>\n",
       "    <tr>\n",
       "      <th>2</th>\n",
       "      <td>411.56</td>\n",
       "      <td>410.20</td>\n",
       "      <td>1291.86</td>\n",
       "      <td>413.19</td>\n",
       "      <td>416.39</td>\n",
       "      <td>416.06</td>\n",
       "      <td>414.96</td>\n",
       "      <td>415.76</td>\n",
       "    </tr>\n",
       "    <tr>\n",
       "      <th>3</th>\n",
       "      <td>410.82</td>\n",
       "      <td>411.42</td>\n",
       "      <td>413.32</td>\n",
       "      <td>1290.79</td>\n",
       "      <td>412.80</td>\n",
       "      <td>413.97</td>\n",
       "      <td>413.46</td>\n",
       "      <td>412.66</td>\n",
       "    </tr>\n",
       "    <tr>\n",
       "      <th>4</th>\n",
       "      <td>413.62</td>\n",
       "      <td>411.72</td>\n",
       "      <td>417.62</td>\n",
       "      <td>414.97</td>\n",
       "      <td>1309.72</td>\n",
       "      <td>519.05</td>\n",
       "      <td>519.66</td>\n",
       "      <td>519.74</td>\n",
       "    </tr>\n",
       "    <tr>\n",
       "      <th>5</th>\n",
       "      <td>413.41</td>\n",
       "      <td>412.65</td>\n",
       "      <td>417.95</td>\n",
       "      <td>415.07</td>\n",
       "      <td>517.17</td>\n",
       "      <td>1303.71</td>\n",
       "      <td>518.19</td>\n",
       "      <td>518.02</td>\n",
       "    </tr>\n",
       "    <tr>\n",
       "      <th>6</th>\n",
       "      <td>414.22</td>\n",
       "      <td>411.21</td>\n",
       "      <td>417.06</td>\n",
       "      <td>415.12</td>\n",
       "      <td>517.16</td>\n",
       "      <td>515.45</td>\n",
       "      <td>1302.08</td>\n",
       "      <td>517.84</td>\n",
       "    </tr>\n",
       "    <tr>\n",
       "      <th>7</th>\n",
       "      <td>414.64</td>\n",
       "      <td>411.80</td>\n",
       "      <td>417.10</td>\n",
       "      <td>414.88</td>\n",
       "      <td>518.54</td>\n",
       "      <td>518.24</td>\n",
       "      <td>521.56</td>\n",
       "      <td>1305.89</td>\n",
       "    </tr>\n",
       "  </tbody>\n",
       "</table>\n",
       "</div>"
      ],
      "text/plain": [
       "         0        1        2        3        4        5        6        7\n",
       "0  1291.86   410.10   410.71   411.04   412.22   411.46   412.88   412.15\n",
       "1   409.42  1290.79   410.06   410.09   409.95   410.27   409.20   410.26\n",
       "2   411.56   410.20  1291.86   413.19   416.39   416.06   414.96   415.76\n",
       "3   410.82   411.42   413.32  1290.79   412.80   413.97   413.46   412.66\n",
       "4   413.62   411.72   417.62   414.97  1309.72   519.05   519.66   519.74\n",
       "5   413.41   412.65   417.95   415.07   517.17  1303.71   518.19   518.02\n",
       "6   414.22   411.21   417.06   415.12   517.16   515.45  1302.08   517.84\n",
       "7   414.64   411.80   417.10   414.88   518.54   518.24   521.56  1305.89"
      ]
     },
     "execution_count": 4,
     "metadata": {},
     "output_type": "execute_result"
    }
   ],
   "source": [
    "print(f'{bandwidth_title} (GB/s) - ComputeNode(A)')\n",
    "bw_anode"
   ]
  },
  {
   "cell_type": "code",
   "execution_count": 5,
   "id": "2fa56106",
   "metadata": {},
   "outputs": [
    {
     "name": "stdout",
     "output_type": "stream",
     "text": [
      "Bidirectional P2P=Enabled Bandwidth Matrix (GB/s) - ComputeNode(V)\n"
     ]
    },
    {
     "data": {
      "text/html": [
       "<div>\n",
       "<style scoped>\n",
       "    .dataframe tbody tr th:only-of-type {\n",
       "        vertical-align: middle;\n",
       "    }\n",
       "\n",
       "    .dataframe tbody tr th {\n",
       "        vertical-align: top;\n",
       "    }\n",
       "\n",
       "    .dataframe thead th {\n",
       "        text-align: right;\n",
       "    }\n",
       "</style>\n",
       "<table border=\"1\" class=\"dataframe\">\n",
       "  <thead>\n",
       "    <tr style=\"text-align: right;\">\n",
       "      <th></th>\n",
       "      <th>0</th>\n",
       "      <th>1</th>\n",
       "      <th>2</th>\n",
       "      <th>3</th>\n",
       "    </tr>\n",
       "  </thead>\n",
       "  <tbody>\n",
       "    <tr>\n",
       "      <th>0</th>\n",
       "      <td>779.50</td>\n",
       "      <td>96.90</td>\n",
       "      <td>96.90</td>\n",
       "      <td>96.90</td>\n",
       "    </tr>\n",
       "    <tr>\n",
       "      <th>1</th>\n",
       "      <td>96.85</td>\n",
       "      <td>780.66</td>\n",
       "      <td>96.91</td>\n",
       "      <td>96.91</td>\n",
       "    </tr>\n",
       "    <tr>\n",
       "      <th>2</th>\n",
       "      <td>96.91</td>\n",
       "      <td>96.85</td>\n",
       "      <td>779.50</td>\n",
       "      <td>96.91</td>\n",
       "    </tr>\n",
       "    <tr>\n",
       "      <th>3</th>\n",
       "      <td>96.90</td>\n",
       "      <td>96.90</td>\n",
       "      <td>96.91</td>\n",
       "      <td>779.11</td>\n",
       "    </tr>\n",
       "  </tbody>\n",
       "</table>\n",
       "</div>"
      ],
      "text/plain": [
       "        0       1       2       3\n",
       "0  779.50   96.90   96.90   96.90\n",
       "1   96.85  780.66   96.91   96.91\n",
       "2   96.91   96.85  779.50   96.91\n",
       "3   96.90   96.90   96.91  779.11"
      ]
     },
     "execution_count": 5,
     "metadata": {},
     "output_type": "execute_result"
    }
   ],
   "source": [
    "print(f'{bandwidth_title} (GB/s) - ComputeNode(V)')\n",
    "bw_vnode"
   ]
  },
  {
   "cell_type": "code",
   "execution_count": 6,
   "id": "02c0c15f",
   "metadata": {},
   "outputs": [
    {
     "data": {
      "image/png": "[encoded data removed]",
      "text/plain": [
       "<Figure size 432x288 with 2 Axes>"
      ]
     },
     "metadata": {
      "needs_background": "light"
     },
     "output_type": "display_data"
    }
   ],
   "source": [
    "plot_heatmap(bw_anode, 'Bidirectional GPU Bandwidth of ComputeNode(A)')"
   ]
  },
  {
   "cell_type": "code",
   "execution_count": 7,
   "id": "1331d8df",
   "metadata": {},
   "outputs": [
    {
     "data": {
      "image/png": "[encoded data removed]",
      "text/plain": [
       "<Figure size 432x288 with 2 Axes>"
      ]
     },
     "metadata": {
      "needs_background": "light"
     },
     "output_type": "display_data"
    }
   ],
   "source": [
    "plot_heatmap(bw_vnode, 'Bidirectional GPU Bandwidth of ComputeNode(V)')"
   ]
  },
  {
   "cell_type": "markdown",
   "id": "cbc853ec",
   "metadata": {},
   "source": [
    "## Latency"
   ]
  },
  {
   "cell_type": "code",
   "execution_count": 8,
   "id": "b15d5b2b",
   "metadata": {},
   "outputs": [],
   "source": [
    "lat_anode = read_table(file_anode_results, latency_title, 9)\n",
    "lat_vnode = read_table(file_vnode_results, latency_title, 5)"
   ]
  },
  {
   "cell_type": "code",
   "execution_count": 9,
   "id": "7841a555",
   "metadata": {},
   "outputs": [
    {
     "name": "stdout",
     "output_type": "stream",
     "text": [
      "P2P=Enabled Latency \\(P2P Writes\\) Matrix (us) - ComputeNode(A)\n"
     ]
    },
    {
     "data": {
      "text/html": [
       "<div>\n",
       "<style scoped>\n",
       "    .dataframe tbody tr th:only-of-type {\n",
       "        vertical-align: middle;\n",
       "    }\n",
       "\n",
       "    .dataframe tbody tr th {\n",
       "        vertical-align: top;\n",
       "    }\n",
       "\n",
       "    .dataframe thead th {\n",
       "        text-align: right;\n",
       "    }\n",
       "</style>\n",
       "<table border=\"1\" class=\"dataframe\">\n",
       "  <thead>\n",
       "    <tr style=\"text-align: right;\">\n",
       "      <th></th>\n",
       "      <th>0</th>\n",
       "      <th>1</th>\n",
       "      <th>2</th>\n",
       "      <th>3</th>\n",
       "      <th>4</th>\n",
       "      <th>5</th>\n",
       "      <th>6</th>\n",
       "      <th>7</th>\n",
       "    </tr>\n",
       "  </thead>\n",
       "  <tbody>\n",
       "    <tr>\n",
       "      <th>0</th>\n",
       "      <td>3.13</td>\n",
       "      <td>3.36</td>\n",
       "      <td>3.32</td>\n",
       "      <td>3.32</td>\n",
       "      <td>3.32</td>\n",
       "      <td>3.25</td>\n",
       "      <td>3.29</td>\n",
       "      <td>3.24</td>\n",
       "    </tr>\n",
       "    <tr>\n",
       "      <th>1</th>\n",
       "      <td>3.28</td>\n",
       "      <td>2.96</td>\n",
       "      <td>3.32</td>\n",
       "      <td>3.21</td>\n",
       "      <td>3.25</td>\n",
       "      <td>3.25</td>\n",
       "      <td>3.22</td>\n",
       "      <td>3.26</td>\n",
       "    </tr>\n",
       "    <tr>\n",
       "      <th>2</th>\n",
       "      <td>3.30</td>\n",
       "      <td>3.24</td>\n",
       "      <td>3.14</td>\n",
       "      <td>3.25</td>\n",
       "      <td>3.27</td>\n",
       "      <td>3.25</td>\n",
       "      <td>3.24</td>\n",
       "      <td>3.26</td>\n",
       "    </tr>\n",
       "    <tr>\n",
       "      <th>3</th>\n",
       "      <td>3.31</td>\n",
       "      <td>3.26</td>\n",
       "      <td>3.21</td>\n",
       "      <td>3.18</td>\n",
       "      <td>3.24</td>\n",
       "      <td>3.20</td>\n",
       "      <td>3.25</td>\n",
       "      <td>3.26</td>\n",
       "    </tr>\n",
       "    <tr>\n",
       "      <th>4</th>\n",
       "      <td>2.81</td>\n",
       "      <td>2.87</td>\n",
       "      <td>2.81</td>\n",
       "      <td>2.88</td>\n",
       "      <td>2.39</td>\n",
       "      <td>2.81</td>\n",
       "      <td>2.83</td>\n",
       "      <td>2.90</td>\n",
       "    </tr>\n",
       "    <tr>\n",
       "      <th>5</th>\n",
       "      <td>2.81</td>\n",
       "      <td>2.86</td>\n",
       "      <td>2.80</td>\n",
       "      <td>2.81</td>\n",
       "      <td>2.80</td>\n",
       "      <td>2.28</td>\n",
       "      <td>3.05</td>\n",
       "      <td>3.40</td>\n",
       "    </tr>\n",
       "    <tr>\n",
       "      <th>6</th>\n",
       "      <td>2.80</td>\n",
       "      <td>2.81</td>\n",
       "      <td>2.80</td>\n",
       "      <td>2.86</td>\n",
       "      <td>2.80</td>\n",
       "      <td>2.91</td>\n",
       "      <td>2.49</td>\n",
       "      <td>2.86</td>\n",
       "    </tr>\n",
       "    <tr>\n",
       "      <th>7</th>\n",
       "      <td>2.80</td>\n",
       "      <td>2.91</td>\n",
       "      <td>2.83</td>\n",
       "      <td>2.82</td>\n",
       "      <td>2.87</td>\n",
       "      <td>2.88</td>\n",
       "      <td>2.80</td>\n",
       "      <td>2.30</td>\n",
       "    </tr>\n",
       "  </tbody>\n",
       "</table>\n",
       "</div>"
      ],
      "text/plain": [
       "      0     1     2     3     4     5     6     7\n",
       "0  3.13  3.36  3.32  3.32  3.32  3.25  3.29  3.24\n",
       "1  3.28  2.96  3.32  3.21  3.25  3.25  3.22  3.26\n",
       "2  3.30  3.24  3.14  3.25  3.27  3.25  3.24  3.26\n",
       "3  3.31  3.26  3.21  3.18  3.24  3.20  3.25  3.26\n",
       "4  2.81  2.87  2.81  2.88  2.39  2.81  2.83  2.90\n",
       "5  2.81  2.86  2.80  2.81  2.80  2.28  3.05  3.40\n",
       "6  2.80  2.81  2.80  2.86  2.80  2.91  2.49  2.86\n",
       "7  2.80  2.91  2.83  2.82  2.87  2.88  2.80  2.30"
      ]
     },
     "execution_count": 9,
     "metadata": {},
     "output_type": "execute_result"
    }
   ],
   "source": [
    "print(f'{latency_title} (us) - ComputeNode(A)')\n",
    "lat_anode"
   ]
  },
  {
   "cell_type": "code",
   "execution_count": 10,
   "id": "417ee08b",
   "metadata": {},
   "outputs": [
    {
     "name": "stdout",
     "output_type": "stream",
     "text": [
      "P2P=Enabled Latency \\(P2P Writes\\) Matrix (us) - ComputeNode(V)\n"
     ]
    },
    {
     "data": {
      "text/html": [
       "<div>\n",
       "<style scoped>\n",
       "    .dataframe tbody tr th:only-of-type {\n",
       "        vertical-align: middle;\n",
       "    }\n",
       "\n",
       "    .dataframe tbody tr th {\n",
       "        vertical-align: top;\n",
       "    }\n",
       "\n",
       "    .dataframe thead th {\n",
       "        text-align: right;\n",
       "    }\n",
       "</style>\n",
       "<table border=\"1\" class=\"dataframe\">\n",
       "  <thead>\n",
       "    <tr style=\"text-align: right;\">\n",
       "      <th></th>\n",
       "      <th>0</th>\n",
       "      <th>1</th>\n",
       "      <th>2</th>\n",
       "      <th>3</th>\n",
       "    </tr>\n",
       "  </thead>\n",
       "  <tbody>\n",
       "    <tr>\n",
       "      <th>0</th>\n",
       "      <td>1.81</td>\n",
       "      <td>1.87</td>\n",
       "      <td>1.90</td>\n",
       "      <td>1.90</td>\n",
       "    </tr>\n",
       "    <tr>\n",
       "      <th>1</th>\n",
       "      <td>1.86</td>\n",
       "      <td>1.65</td>\n",
       "      <td>1.86</td>\n",
       "      <td>1.85</td>\n",
       "    </tr>\n",
       "    <tr>\n",
       "      <th>2</th>\n",
       "      <td>1.94</td>\n",
       "      <td>1.95</td>\n",
       "      <td>1.65</td>\n",
       "      <td>1.95</td>\n",
       "    </tr>\n",
       "    <tr>\n",
       "      <th>3</th>\n",
       "      <td>2.00</td>\n",
       "      <td>2.00</td>\n",
       "      <td>2.00</td>\n",
       "      <td>1.68</td>\n",
       "    </tr>\n",
       "  </tbody>\n",
       "</table>\n",
       "</div>"
      ],
      "text/plain": [
       "      0     1     2     3\n",
       "0  1.81  1.87  1.90  1.90\n",
       "1  1.86  1.65  1.86  1.85\n",
       "2  1.94  1.95  1.65  1.95\n",
       "3  2.00  2.00  2.00  1.68"
      ]
     },
     "execution_count": 10,
     "metadata": {},
     "output_type": "execute_result"
    }
   ],
   "source": [
    "print(f'{latency_title} (us) - ComputeNode(V)')\n",
    "lat_vnode"
   ]
  },
  {
   "cell_type": "code",
   "execution_count": 11,
   "id": "fbdfdb76",
   "metadata": {},
   "outputs": [
    {
     "data": {
      "image/png": "[encoded data removed]",
      "text/plain": [
       "<Figure size 432x288 with 2 Axes>"
      ]
     },
     "metadata": {
      "needs_background": "light"
     },
     "output_type": "display_data"
    }
   ],
   "source": [
    "plot_heatmap(lat_anode, 'GPU Lantecy of ComputeNode(A)', fmt='.2f')"
   ]
  },
  {
   "cell_type": "code",
   "execution_count": 12,
   "id": "0dd304e5",
   "metadata": {},
   "outputs": [
    {
     "data": {
      "image/png": "[encoded data removed]",
      "text/plain": [
       "<Figure size 432x288 with 2 Axes>"
      ]
     },
     "metadata": {
      "needs_background": "light"
     },
     "output_type": "display_data"
    }
   ],
   "source": [
    "plot_heatmap(lat_vnode, 'GPU Lantecy of ComputeNode(V)', fmt='.2f')"
   ]
  },
  {
   "cell_type": "code",
   "execution_count": null,
   "id": "863d13d1",
   "metadata": {},
   "outputs": [],
   "source": []
  }
 ],
 "metadata": {
  "kernelspec": {
   "display_name": "Python 3",
   "language": "python",
   "name": "python3"
  },
  "language_info": {
   "codemirror_mode": {
    "name": "ipython",
    "version": 3
   },
   "file_extension": ".py",
   "mimetype": "text/x-python",
   "name": "python",
   "nbconvert_exporter": "python",
   "pygments_lexer": "ipython3",
   "version": "3.6.5"
  }
 },
 "nbformat": 4,
 "nbformat_minor": 5
}
